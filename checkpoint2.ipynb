{
 "cells": [
  {
   "cell_type": "code",
   "execution_count": 13,
   "id": "9f2d55cf",
   "metadata": {},
   "outputs": [
    {
     "name": "stdout",
     "output_type": "stream",
     "text": [
      "Enter your First name: karim\n",
      "Enter your last name: chah\n",
      "your name is : chah karim\n"
     ]
    }
   ],
   "source": [
    "first_name = input(\"Enter your First name: \")\n",
    "last_name = input(\"Enter your last name: \")\n",
    "print(\"your name is :\", last_name , first_name)"
   ]
  },
  {
   "cell_type": "code",
   "execution_count": 38,
   "id": "219f5e09",
   "metadata": {},
   "outputs": [
    {
     "ename": "SyntaxError",
     "evalue": "invalid syntax (3594705419.py, line 2)",
     "output_type": "error",
     "traceback": [
      "\u001b[1;36m  File \u001b[1;32m\"C:\\Users\\kchah\\AppData\\Local\\Temp\\ipykernel_26384\\3594705419.py\"\u001b[1;36m, line \u001b[1;32m2\u001b[0m\n\u001b[1;33m    if a=>b:\u001b[0m\n\u001b[1;37m        ^\u001b[0m\n\u001b[1;31mSyntaxError\u001b[0m\u001b[1;31m:\u001b[0m invalid syntax\n"
     ]
    }
   ],
   "source": [
    "def difference(n):\n",
    "    while i <= n:\n",
    "        n = n + 5\n",
    "        i = i+1    # update counter\n",
    "x=difference(5)\n",
    "\n",
    "\n",
    "print(\"The sum is\", sum, i) # print the sum\n",
    "\n"
   ]
  },
  {
   "cell_type": "code",
   "execution_count": 44,
   "id": "11693fee",
   "metadata": {},
   "outputs": [
    {
     "name": "stdout",
     "output_type": "stream",
     "text": [
      "entrer un numero3\n",
      "nombre impaire\n"
     ]
    }
   ],
   "source": [
    "num=int(input(\"entrer un numero\"))\n",
    "modulo=num % 2\n",
    "if modulo == 0 :\n",
    "    print(\"nombre paire\")\n",
    "else:\n",
    "    print(\"nombre impaire\")\n"
   ]
  },
  {
   "cell_type": "code",
   "execution_count": 69,
   "id": "3bc873b4",
   "metadata": {},
   "outputs": [
    {
     "name": "stdout",
     "output_type": "stream",
     "text": [
      "entrer un numero superieur a 2000 : éàà\n"
     ]
    },
    {
     "ename": "ValueError",
     "evalue": "invalid literal for int() with base 10: 'éàà'",
     "output_type": "error",
     "traceback": [
      "\u001b[1;31m---------------------------------------------------------------------------\u001b[0m",
      "\u001b[1;31mValueError\u001b[0m                                Traceback (most recent call last)",
      "\u001b[1;32m~\\AppData\\Local\\Temp\\ipykernel_26384\\1773216651.py\u001b[0m in \u001b[0;36m<module>\u001b[1;34m\u001b[0m\n\u001b[1;32m----> 1\u001b[1;33m \u001b[0ma\u001b[0m\u001b[1;33m=\u001b[0m\u001b[0mint\u001b[0m\u001b[1;33m(\u001b[0m\u001b[0minput\u001b[0m\u001b[1;33m(\u001b[0m\u001b[1;34m\"entrer un numero superieur a 2000 : \"\u001b[0m\u001b[1;33m)\u001b[0m\u001b[1;33m)\u001b[0m\u001b[1;33m\u001b[0m\u001b[1;33m\u001b[0m\u001b[0m\n\u001b[0m\u001b[0;32m      2\u001b[0m \u001b[0mb\u001b[0m\u001b[1;33m=\u001b[0m \u001b[0mint\u001b[0m\u001b[1;33m(\u001b[0m\u001b[0minput\u001b[0m\u001b[1;33m(\u001b[0m\u001b[1;34m\"entrer un numero inferieur a 3500 : \"\u001b[0m\u001b[1;33m)\u001b[0m\u001b[1;33m)\u001b[0m\u001b[1;33m\u001b[0m\u001b[1;33m\u001b[0m\u001b[0m\n\u001b[0;32m      3\u001b[0m \u001b[1;33m\u001b[0m\u001b[0m\n\u001b[0;32m      4\u001b[0m \u001b[1;32mfor\u001b[0m \u001b[0mi\u001b[0m \u001b[1;32min\u001b[0m \u001b[0mrange\u001b[0m\u001b[1;33m(\u001b[0m\u001b[0ma\u001b[0m\u001b[1;33m,\u001b[0m \u001b[0mb\u001b[0m\u001b[1;33m+\u001b[0m\u001b[1;36m1\u001b[0m\u001b[1;33m)\u001b[0m\u001b[1;33m:\u001b[0m\u001b[1;33m\u001b[0m\u001b[1;33m\u001b[0m\u001b[0m\n\u001b[0;32m      5\u001b[0m     \u001b[1;32mif\u001b[0m \u001b[1;33m(\u001b[0m\u001b[0mi\u001b[0m\u001b[1;33m%\u001b[0m\u001b[1;36m7\u001b[0m\u001b[1;33m==\u001b[0m\u001b[1;36m0\u001b[0m\u001b[1;33m)\u001b[0m \u001b[1;32mand\u001b[0m \u001b[1;33m(\u001b[0m\u001b[0mi\u001b[0m\u001b[1;33m%\u001b[0m\u001b[1;36m5\u001b[0m\u001b[1;33m!=\u001b[0m\u001b[1;36m0\u001b[0m\u001b[1;33m)\u001b[0m\u001b[1;33m:\u001b[0m\u001b[1;33m\u001b[0m\u001b[1;33m\u001b[0m\u001b[0m\n",
      "\u001b[1;31mValueError\u001b[0m: invalid literal for int() with base 10: 'éàà'"
     ]
    }
   ],
   "source": [
    "  \n",
    "a=int(input(\"entrer un numero superieur a 2000 : \"))\n",
    "b= int(input(\"entrer un numero inferieur a 3500 : \"))\n",
    "\n",
    "for i in range(a, b+1):\n",
    "    if (i%7==0) and (i%5!=0):\n",
    "        print( i,\"multiple de 7\")\n",
    "    else:\n",
    "        print(i, \"pas mulitple de 7\")\n",
    "    "
   ]
  },
  {
   "cell_type": "code",
   "execution_count": 70,
   "id": "ab328e4f",
   "metadata": {},
   "outputs": [
    {
     "name": "stdout",
     "output_type": "stream",
     "text": [
      "Input a number to compute the factiorial : 9\n",
      "1\n"
     ]
    }
   ],
   "source": [
    "def factorial(n):\n",
    "    if n == 0 or  8<=n:\n",
    "        return 1\n",
    "    else:\n",
    "        return n * factorial(n-1)\n",
    "n=int(input(\"Input a number to compute the factiorial : \"))\n",
    "print(factorial(n))"
   ]
  },
  {
   "cell_type": "code",
   "execution_count": 71,
   "id": "b32ab75c",
   "metadata": {},
   "outputs": [
    {
     "name": "stdout",
     "output_type": "stream",
     "text": [
      "ace\n",
      "pto\n"
     ]
    }
   ],
   "source": [
    "def odd_values_string(str):\n",
    "  result = \"\" \n",
    "  for i in range(len(str)):\n",
    "    if i % 2 == 0:\n",
    "      result = result + str[i]\n",
    "  return result\n",
    "\n",
    "print(odd_values_string('HELLO'))\n",
    "print(odd_values_string('python'))"
   ]
  },
  {
   "cell_type": "code",
   "execution_count": 3,
   "id": "b9e943a5",
   "metadata": {},
   "outputs": [
    {
     "name": "stdout",
     "output_type": "stream",
     "text": [
      "   Fname  Age  Weight Gender       State  Children  Pets\n",
      "0  Harry   21     180      M  Washington         4     3\n",
      "1  Sally   34     130      F      Oregon         1     2\n",
      "2   Paul   42     200      M  California         2     2\n",
      "3    Abe   18     140      M  Washington         3     5\n",
      "4   June   24     176      F      Nevada         0     0\n",
      "5   Mike   80     142      M       Texas         2     1\n",
      "6    Tom   22     210      M      Nevada         0     5\n"
     ]
    }
   ],
   "source": [
    "import pandas as pd \n",
    "df = pd.DataFrame({ \n",
    "    'Fname':['Harry','Sally','Paul','Abe','June','Mike','Tom'], \n",
    "    'Age':[21,34,42,18,24,80,22], \n",
    "    'Weight': [180, 130, 200, 140, 176, 142, 210], \n",
    "    'Gender':['M','F','M','M','F','M','M'], \n",
    "    'State':['Washington','Oregon','California','Washington','Nevada','Texas','Nevada'],\n",
    "    'Children':[4,1,2,3,0,2,0],\n",
    "    'Pets':[3,2,2,5,0,1,5] \n",
    "}) \n",
    "print (df) "
   ]
  },
  {
   "cell_type": "code",
   "execution_count": null,
   "id": "a27979ac",
   "metadata": {},
   "outputs": [],
   "source": []
  }
 ],
 "metadata": {
  "kernelspec": {
   "display_name": "Python 3 (ipykernel)",
   "language": "python",
   "name": "python3"
  },
  "language_info": {
   "codemirror_mode": {
    "name": "ipython",
    "version": 3
   },
   "file_extension": ".py",
   "mimetype": "text/x-python",
   "name": "python",
   "nbconvert_exporter": "python",
   "pygments_lexer": "ipython3",
   "version": "3.9.13"
  }
 },
 "nbformat": 4,
 "nbformat_minor": 5
}
